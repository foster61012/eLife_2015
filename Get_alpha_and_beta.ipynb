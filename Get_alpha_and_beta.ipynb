{
 "cells": [
  {
   "cell_type": "code",
   "execution_count": 8,
   "metadata": {
    "collapsed": false
   },
   "outputs": [
    {
     "name": "stdout",
     "output_type": "stream",
     "text": [
      "Populating the interactive namespace from numpy and matplotlib\n"
     ]
    }
   ],
   "source": [
    "%pylab inline\n",
    "import sys\n",
    "sys.path.append(PATH_TO_CONTRACT_PY) ## Put the path to contract.py here !!!!\n",
    "import contract as contract\n",
    "from scipy.integrate import odeint\n",
    "from scipy.optimize import curve_fit\n",
    "\n",
    "##set parameters of contract simulation + initialize grid\n",
    "ngp=64\n",
    "contract.ngp=ngp\n",
    "contract.setup_grid()\n",
    "t=linspace(0,80.,2000)"
   ]
  },
  {
   "cell_type": "code",
   "execution_count": 9,
   "metadata": {
    "collapsed": true
   },
   "outputs": [],
   "source": [
    "##redefine compute function with more flexible parameter input \n",
    "def compute(a,b,r0,w_init):\n",
    "    l=sqrt(a/b)\n",
    "    s0=-1./sqrt(a*b)\n",
    "\n",
    "    #set parameters\n",
    "    contract.l=l\n",
    "    contract.s0=s0\n",
    "    contract.rho0=1.\n",
    "    \n",
    "    contract.rho_init=r0*ones(ngp)\n",
    "    contract.w_init=w_init\n",
    "\n",
    "    return odeint(contract.dt_packed,contract.init_packed(),t)\n",
    "\n",
    "##define fit function for time profile of contractions\n",
    "def fit_func(t,aa,tau):\n",
    "    return aa*(1.-exp(-t/tau))\n",
    "\n",
    "##define functional form of time scaling\n",
    "def ftaus(_ww,_aa,_bb):\n",
    "    return _aa+_bb*_ww**2"
   ]
  },
  {
   "cell_type": "code",
   "execution_count": 13,
   "metadata": {
    "collapsed": false
   },
   "outputs": [],
   "source": [
    "## choose a= eta/s rho0^2  and b= gamma/s rho0^2 around which to determine alpha beta \n",
    "## (taken from fit to a typical contraction profile)\n",
    "a,b,r0=array([  2.26413429e+00,   7.09505347e-05,   3.26194452e-01]) #\n",
    "a=a/3.\n",
    "b=b/3.\n",
    "b=b/4.\n",
    "\n",
    "## define interval over which to sample\n",
    "_w=(arange(5)+1)*400\n",
    "aa=linspace(a/2.,a*2.,10.)\n",
    "bb=linspace(b/2.,b*2.,10.)\n",
    "afacs=[]\n",
    "bfacs=[]\n",
    "\n",
    "## this loop determines output time scales for many parameters\n",
    "for _a in aa:\n",
    "    for _b in bb:\n",
    "        taus=[]\n",
    "        t=linspace(0,80.,2000)\n",
    "        for w_init in _w:\n",
    "            o=compute(_a,_b,r0,w_init)\n",
    "            w=o[:,0]\n",
    "            w0=-(w-w_init)/w_init\n",
    "            cf=curve_fit(fit_func,t,w0)\n",
    "            a,tau=cf[0]\n",
    "            taus.append(tau)\n",
    "\n",
    "        cftau=curve_fit(ftaus,_w,taus)\n",
    "        afacs.append(cftau[0][0]/_a)\n",
    "        bfacs.append(cftau[0][1]/_b)       \n"
   ]
  },
  {
   "cell_type": "code",
   "execution_count": 30,
   "metadata": {
    "collapsed": false
   },
   "outputs": [
    {
     "name": "stdout",
     "output_type": "stream",
     "text": [
      "alpha=2.22e+00 +- 6.48e-02\n",
      "beta=8.52e-02 +- 6.40e-03\n"
     ]
    }
   ],
   "source": [
    "##print the alpha and beta determined from the sampling\n",
    "alpha=mean(afacs)\n",
    "beta=mean(bfacs)\n",
    "alpha_err=sqrt(var(afacs))\n",
    "beta_err=sqrt(var(bfacs))\n",
    "\n",
    "print(\"alpha=%0.2e +- %0.2e\"%(alpha,alpha_err))\n",
    "print(\"beta=%0.2e +- %0.2e\"%(beta,beta_err))"
   ]
  }
 ],
 "metadata": {
  "kernelspec": {
   "display_name": "Python 2",
   "language": "python",
   "name": "python2"
  },
  "language_info": {
   "codemirror_mode": {
    "name": "ipython",
    "version": 2
   },
   "file_extension": ".py",
   "mimetype": "text/x-python",
   "name": "python",
   "nbconvert_exporter": "python",
   "pygments_lexer": "ipython2",
   "version": "2.7.10"
  }
 },
 "nbformat": 4,
 "nbformat_minor": 0
}
